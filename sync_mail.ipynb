{
 "cells": [
  {
   "cell_type": "code",
   "execution_count": null,
   "metadata": {},
   "outputs": [],
   "source": [
    "\"\"\"\n",
    "imaplib — IMAP4 protocol client\n",
    "https://docs.python.org/3/library/imaplib.html\n",
    "\"\"\"\n",
    "import imaplib\n",
    "\n",
    "import email\n",
    "import time\n",
    "\n",
    "import requests\n",
    "\n",
    "import vonage"
   ]
  },
  {
   "cell_type": "code",
   "execution_count": null,
   "metadata": {},
   "outputs": [],
   "source": [
    "# Send Text Message Function \n",
    "\n",
    "def send_text(to, message):\n",
    "    client = vonage.Client(key='0581f099', secret='3lAtOF9EgHv26elX')\n",
    "    sms = vonage.Sms(client)\n",
    "    \n",
    "    responseData = sms.send_message(\n",
    "        {\n",
    "            \"from\": \"Foretust\",\n",
    "            \"to\": to,\n",
    "            \"text\": message,\n",
    "        }\n",
    "    )\n",
    "\n",
    "    if responseData[\"messages\"][0][\"status\"] == \"0\":\n",
    "        print(\"Message sent successfully.\")\n",
    "    else:\n",
    "        print(f\"Message failed with error: {responseData['messages'][0]['error-text']}\")\n"
   ]
  },
  {
   "cell_type": "code",
   "execution_count": null,
   "metadata": {},
   "outputs": [],
   "source": [
    "#connection to the email server\n",
    "mail = imaplib.IMAP4_SSL(\"imap.gmail.com\", 993)\n",
    "\"\"\"\n",
    "If you are using gmail, \n",
    "make sure your 'less secure app access'\n",
    "is turned on from https://myaccount.google.com/u/2/security\n",
    "\"\"\"\n",
    "mail.login('fake.email0x0@gmail.com', '@fake.email0x0password')\n",
    "mail.select('\"[Gmail]/All Mail\"')\n",
    "\n",
    "while True:\n",
    "    # search all email and return uids\n",
    "    result, data = mail.uid('search', None, \"UNSEEN\") # replace UNSEEN with ALL to get all email\n",
    "\n",
    "    if result == 'OK':\n",
    "        print('Sucessful at', time.time())\n",
    "        for num in data[0].split():\n",
    "            result, data = mail.uid('fetch', num, '(RFC822)')\n",
    "            if result == 'OK':\n",
    "                email_message = email.message_from_bytes(data[0][1])    # raw email text including headers\n",
    "                print('Date:' + email_message['date'])\n",
    "                print('From:' + email_message['from'])\n",
    "                print('Subject:' + email_message['subject'])\n",
    "                \n",
    "                if email_message.is_multipart():\n",
    "                    print('Multipart')\n",
    "                    for part in email_message.get_payload():\n",
    "                        body = str(part.get_payload())\n",
    "                        send_text('+2348182179927', message=body)\n",
    "                        print(body)\n",
    "                        break\n",
    "                        \n",
    "                else:\n",
    "                    body = str(email_message.get_payload())\n",
    "                    send_text('+2348182179927', message=body)\n",
    "                    print(body)\n",
    "\n",
    "    \n",
    "    time.sleep(120)\n",
    "\n",
    "m.close()\n",
    "m.logout()"
   ]
  },
  {
   "cell_type": "code",
   "execution_count": null,
   "metadata": {},
   "outputs": [],
   "source": [
    "#+2348141774296\n",
    "# send_text('+2348141774296', message=\"Before starting, you'll want to make sure you have Python installed. The code here was tested on Python 2.7 and 3.6.\")"
   ]
  },
  {
   "cell_type": "code",
   "execution_count": null,
   "metadata": {},
   "outputs": [],
   "source": []
  }
 ],
 "metadata": {
  "kernelspec": {
   "display_name": "Python 3",
   "language": "python",
   "name": "python3"
  },
  "language_info": {
   "codemirror_mode": {
    "name": "ipython",
    "version": 3
   },
   "file_extension": ".py",
   "mimetype": "text/x-python",
   "name": "python",
   "nbconvert_exporter": "python",
   "pygments_lexer": "ipython3",
   "version": "3.7.6"
  }
 },
 "nbformat": 4,
 "nbformat_minor": 4
}
